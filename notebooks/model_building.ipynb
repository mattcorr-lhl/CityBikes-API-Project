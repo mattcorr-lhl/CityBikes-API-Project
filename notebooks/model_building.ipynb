{
 "cells": [
  {
   "cell_type": "markdown",
   "metadata": {},
   "source": [
    "Build a regression model."
   ]
  },
  {
   "cell_type": "code",
   "execution_count": 5,
   "metadata": {},
   "outputs": [],
   "source": [
    "import numpy as np\n",
    "import pandas as pd\n",
    "from sklearn import linear_model\n",
    "\n",
    "import statsmodels.api as sm"
   ]
  },
  {
   "cell_type": "code",
   "execution_count": 10,
   "metadata": {},
   "outputs": [
    {
     "data": {
      "text/html": [
       "<div>\n",
       "<style scoped>\n",
       "    .dataframe tbody tr th:only-of-type {\n",
       "        vertical-align: middle;\n",
       "    }\n",
       "\n",
       "    .dataframe tbody tr th {\n",
       "        vertical-align: top;\n",
       "    }\n",
       "\n",
       "    .dataframe thead th {\n",
       "        text-align: right;\n",
       "    }\n",
       "</style>\n",
       "<table border=\"1\" class=\"dataframe\">\n",
       "  <thead>\n",
       "    <tr style=\"text-align: right;\">\n",
       "      <th></th>\n",
       "      <th>station_id</th>\n",
       "      <th>distance_from_station</th>\n",
       "      <th>POI_name</th>\n",
       "      <th>rating</th>\n",
       "      <th>review_count</th>\n",
       "      <th>price</th>\n",
       "      <th>address</th>\n",
       "      <th>category_names</th>\n",
       "      <th>station_name</th>\n",
       "      <th>free_bikes</th>\n",
       "      <th>empty_slots</th>\n",
       "      <th>latitude</th>\n",
       "      <th>longitude</th>\n",
       "    </tr>\n",
       "  </thead>\n",
       "  <tbody>\n",
       "    <tr>\n",
       "      <th>0</th>\n",
       "      <td>af1d0f25cbc75377878349fde4d86133</td>\n",
       "      <td>206.258780</td>\n",
       "      <td>BrewDog DogHouse</td>\n",
       "      <td>4.5</td>\n",
       "      <td>48</td>\n",
       "      <td>££</td>\n",
       "      <td>99 Hutcheson Street</td>\n",
       "      <td>['Pubs', 'Beer, Wine &amp; Spirits', 'Barbeque']</td>\n",
       "      <td>Merchant Square - ELECTRIC</td>\n",
       "      <td>7</td>\n",
       "      <td>2.0</td>\n",
       "      <td>55.858167</td>\n",
       "      <td>-4.245483</td>\n",
       "    </tr>\n",
       "    <tr>\n",
       "      <th>1</th>\n",
       "      <td>af1d0f25cbc75377878349fde4d86133</td>\n",
       "      <td>85.938424</td>\n",
       "      <td>Café Gandolfi</td>\n",
       "      <td>4.5</td>\n",
       "      <td>67</td>\n",
       "      <td>££</td>\n",
       "      <td>64 Albion Street</td>\n",
       "      <td>['Seafood', 'British']</td>\n",
       "      <td>Merchant Square - ELECTRIC</td>\n",
       "      <td>7</td>\n",
       "      <td>2.0</td>\n",
       "      <td>55.858167</td>\n",
       "      <td>-4.245483</td>\n",
       "    </tr>\n",
       "    <tr>\n",
       "      <th>2</th>\n",
       "      <td>af1d0f25cbc75377878349fde4d86133</td>\n",
       "      <td>48.999836</td>\n",
       "      <td>The Wilson Street Pantry</td>\n",
       "      <td>4.5</td>\n",
       "      <td>88</td>\n",
       "      <td>£</td>\n",
       "      <td>6 Wilson Street</td>\n",
       "      <td>['Cafes', 'Coffee &amp; Tea', 'Breakfast &amp; Brunch']</td>\n",
       "      <td>Merchant Square - ELECTRIC</td>\n",
       "      <td>7</td>\n",
       "      <td>2.0</td>\n",
       "      <td>55.858167</td>\n",
       "      <td>-4.245483</td>\n",
       "    </tr>\n",
       "    <tr>\n",
       "      <th>3</th>\n",
       "      <td>af1d0f25cbc75377878349fde4d86133</td>\n",
       "      <td>54.506141</td>\n",
       "      <td>Blackfriars</td>\n",
       "      <td>4.0</td>\n",
       "      <td>59</td>\n",
       "      <td>££</td>\n",
       "      <td>36 Bell Street</td>\n",
       "      <td>['Pubs']</td>\n",
       "      <td>Merchant Square - ELECTRIC</td>\n",
       "      <td>7</td>\n",
       "      <td>2.0</td>\n",
       "      <td>55.858167</td>\n",
       "      <td>-4.245483</td>\n",
       "    </tr>\n",
       "    <tr>\n",
       "      <th>4</th>\n",
       "      <td>af1d0f25cbc75377878349fde4d86133</td>\n",
       "      <td>176.960268</td>\n",
       "      <td>Babbity Bowster</td>\n",
       "      <td>4.0</td>\n",
       "      <td>33</td>\n",
       "      <td>££</td>\n",
       "      <td>16-18 Blackfriars Street</td>\n",
       "      <td>['Pubs']</td>\n",
       "      <td>Merchant Square - ELECTRIC</td>\n",
       "      <td>7</td>\n",
       "      <td>2.0</td>\n",
       "      <td>55.858167</td>\n",
       "      <td>-4.245483</td>\n",
       "    </tr>\n",
       "  </tbody>\n",
       "</table>\n",
       "</div>"
      ],
      "text/plain": [
       "                         station_id  distance_from_station  \\\n",
       "0  af1d0f25cbc75377878349fde4d86133             206.258780   \n",
       "1  af1d0f25cbc75377878349fde4d86133              85.938424   \n",
       "2  af1d0f25cbc75377878349fde4d86133              48.999836   \n",
       "3  af1d0f25cbc75377878349fde4d86133              54.506141   \n",
       "4  af1d0f25cbc75377878349fde4d86133             176.960268   \n",
       "\n",
       "                   POI_name  rating  review_count price  \\\n",
       "0          BrewDog DogHouse     4.5            48    ££   \n",
       "1             Café Gandolfi     4.5            67    ££   \n",
       "2  The Wilson Street Pantry     4.5            88     £   \n",
       "3               Blackfriars     4.0            59    ££   \n",
       "4           Babbity Bowster     4.0            33    ££   \n",
       "\n",
       "                    address                                   category_names  \\\n",
       "0       99 Hutcheson Street     ['Pubs', 'Beer, Wine & Spirits', 'Barbeque']   \n",
       "1          64 Albion Street                           ['Seafood', 'British']   \n",
       "2           6 Wilson Street  ['Cafes', 'Coffee & Tea', 'Breakfast & Brunch']   \n",
       "3            36 Bell Street                                         ['Pubs']   \n",
       "4  16-18 Blackfriars Street                                         ['Pubs']   \n",
       "\n",
       "                 station_name  free_bikes  empty_slots   latitude  longitude  \n",
       "0  Merchant Square - ELECTRIC           7          2.0  55.858167  -4.245483  \n",
       "1  Merchant Square - ELECTRIC           7          2.0  55.858167  -4.245483  \n",
       "2  Merchant Square - ELECTRIC           7          2.0  55.858167  -4.245483  \n",
       "3  Merchant Square - ELECTRIC           7          2.0  55.858167  -4.245483  \n",
       "4  Merchant Square - ELECTRIC           7          2.0  55.858167  -4.245483  "
      ]
     },
     "execution_count": 10,
     "metadata": {},
     "output_type": "execute_result"
    }
   ],
   "source": [
    "# Load in data from previous activities (using .csvs instead of database due to less code)\n",
    "yelp_pois_df = pd.read_csv(\"../data/Yelp_POIs.csv\")\n",
    "stations_df = pd.read_csv(\"../data/citybike_stations.csv\")\n",
    "merged_df = pd.merge(yelp_pois_df, stations_df, on='station_id')\n",
    "\n",
    "merged_df.head(5)"
   ]
  },
  {
   "cell_type": "code",
   "execution_count": 23,
   "metadata": {},
   "outputs": [],
   "source": [
    "x = merged_df[['distance_from_station']]\n",
    "y = merged_df['rating']"
   ]
  },
  {
   "cell_type": "code",
   "execution_count": 24,
   "metadata": {},
   "outputs": [],
   "source": [
    "# Add a constant term to the independent variables\n",
    "X = sm.add_constant(x)\n",
    "\n",
    "# Fit the linear regression model\n",
    "model = sm.OLS(y, X).fit()\n",
    "print_model = model.summary()"
   ]
  },
  {
   "cell_type": "markdown",
   "metadata": {},
   "source": [
    "Provide model output and an interpretation of the results. "
   ]
  },
  {
   "cell_type": "code",
   "execution_count": 25,
   "metadata": {},
   "outputs": [
    {
     "name": "stdout",
     "output_type": "stream",
     "text": [
      "                            OLS Regression Results                            \n",
      "==============================================================================\n",
      "Dep. Variable:                 rating   R-squared:                       0.028\n",
      "Model:                            OLS   Adj. R-squared:                  0.027\n",
      "Method:                 Least Squares   F-statistic:                     19.16\n",
      "Date:                Sun, 03 Sep 2023   Prob (F-statistic):           1.40e-05\n",
      "Time:                        20:25:10   Log-Likelihood:                -831.83\n",
      "No. Observations:                 659   AIC:                             1668.\n",
      "Df Residuals:                     657   BIC:                             1677.\n",
      "Df Model:                           1                                         \n",
      "Covariance Type:            nonrobust                                         \n",
      "=========================================================================================\n",
      "                            coef    std err          t      P>|t|      [0.025      0.975]\n",
      "-----------------------------------------------------------------------------------------\n",
      "const                     4.0493      0.048     83.512      0.000       3.954       4.145\n",
      "distance_from_station    -0.0004   9.57e-05     -4.377      0.000      -0.001      -0.000\n",
      "==============================================================================\n",
      "Omnibus:                      131.364   Durbin-Watson:                   1.660\n",
      "Prob(Omnibus):                  0.000   Jarque-Bera (JB):              231.163\n",
      "Skew:                          -1.194   Prob(JB):                     6.36e-51\n",
      "Kurtosis:                       4.648   Cond. No.                         737.\n",
      "==============================================================================\n",
      "\n",
      "Notes:\n",
      "[1] Standard Errors assume that the covariance matrix of the errors is correctly specified.\n"
     ]
    }
   ],
   "source": [
    "# Print the model summary\n",
    "print(print_model)"
   ]
  },
  {
   "cell_type": "markdown",
   "metadata": {},
   "source": [
    "In the above model I attempted to relate `distance_from_station` with `rating` to see if there was any tangible connection between the two. According to the regression model the coefficient for `distance_from_station` was -0.0004 which indicates there is a slight negative relationship between the distance and rating (ie. as the distance from the station increases the ratings tend to decrease).\n",
    "\n",
    "However, because the R-squared value is so low (0.028) this explaination only applys to 2.8% of the data. Meaning the distance from the station is probably not the primary contributing factor to the rating of a venue"
   ]
  },
  {
   "cell_type": "markdown",
   "metadata": {},
   "source": [
    "# Stretch"
   ]
  },
  {
   "cell_type": "markdown",
   "metadata": {},
   "source": [
    "How can you turn the regression model into a classification model?"
   ]
  },
  {
   "cell_type": "code",
   "execution_count": null,
   "metadata": {},
   "outputs": [],
   "source": []
  }
 ],
 "metadata": {
  "kernelspec": {
   "display_name": "Python 3",
   "language": "python",
   "name": "python3"
  },
  "language_info": {
   "codemirror_mode": {
    "name": "ipython",
    "version": 3
   },
   "file_extension": ".py",
   "mimetype": "text/x-python",
   "name": "python",
   "nbconvert_exporter": "python",
   "pygments_lexer": "ipython3",
   "version": "3.9.7"
  }
 },
 "nbformat": 4,
 "nbformat_minor": 4
}
